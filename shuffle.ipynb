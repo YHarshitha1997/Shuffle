{
 "cells": [
  {
   "cell_type": "code",
   "execution_count": 14,
   "id": "024d4594",
   "metadata": {},
   "outputs": [
    {
     "name": "stdout",
     "output_type": "stream",
     "text": [
      "[1, 2, 3, 5]\n"
     ]
    }
   ],
   "source": [
    "def fun(a):  #function\n",
    "    a.sort()  #to sort the values\n",
    "    return a\n",
    "a=[1,3,5,2]   #values assigned\n",
    "print(fun(a)) #to print the shuffled values"
   ]
  },
  {
   "cell_type": "code",
   "execution_count": null,
   "id": "05f48bb7",
   "metadata": {},
   "outputs": [],
   "source": []
  }
 ],
 "metadata": {
  "kernelspec": {
   "display_name": "Python 3",
   "language": "python",
   "name": "python3"
  },
  "language_info": {
   "codemirror_mode": {
    "name": "ipython",
    "version": 3
   },
   "file_extension": ".py",
   "mimetype": "text/x-python",
   "name": "python",
   "nbconvert_exporter": "python",
   "pygments_lexer": "ipython3",
   "version": "3.8.8"
  }
 },
 "nbformat": 4,
 "nbformat_minor": 5
}
